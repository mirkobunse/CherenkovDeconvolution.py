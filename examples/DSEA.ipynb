{
 "cells": [
  {
   "cell_type": "markdown",
   "metadata": {},
   "source": [
    "# Deconvolution with DSEA\n",
    "\n",
    "The Dortmund Spectrum Estimation Algorithm (DSEA) reconstructs the target distribution from classifier predictions on the target quantity of individual examples.\n",
    "CherenkovDeconvolution.py implements the improved version DSEA+, which is extended by adaptive step sizes and a fixed reweighting of examples.\n",
    "\n",
    "For a quick start, we deconvolve the distribution of Iris plant types in the famous IRIS data set."
   ]
  },
  {
   "cell_type": "code",
   "execution_count": 1,
   "metadata": {},
   "outputs": [
    {
     "data": {
      "text/plain": [
       "array([0.38, 0.3 , 0.32])"
      ]
     },
     "execution_count": 1,
     "metadata": {},
     "output_type": "execute_result"
    }
   ],
   "source": [
    "import numpy as np\n",
    "from cherenkovdeconvolution import util\n",
    "\n",
    "# load the data\n",
    "from sklearn.datasets import load_iris\n",
    "iris = load_iris()\n",
    "\n",
    "# randomly split into training set and data to be deconvolved\n",
    "np.random.seed(42)\n",
    "p_iris = np.random.permutation(len(iris.target))\n",
    "X_data  = iris.data[p_iris[0:50], :]\n",
    "X_train = iris.data[p_iris[50:150], :]\n",
    "y_train = iris.target[p_iris[50:150]]\n",
    "\n",
    "# also obtain the true target density---which we are estimating---for validation\n",
    "f_true = util.fit_pdf(iris.target[p_iris[0:50]]) # pdf of y values belonging to X_data\n",
    "f_true"
   ]
  },
  {
   "cell_type": "code",
   "execution_count": 2,
   "metadata": {},
   "outputs": [],
   "source": [
    "# workaround if you have not yet installed CherenkovDeconvolution.py but want to try it from this notebook\n",
    "import sys\n",
    "sys.path.append(\"..\")"
   ]
  },
  {
   "cell_type": "code",
   "execution_count": 3,
   "metadata": {},
   "outputs": [
    {
     "name": "stdout",
     "output_type": "stream",
     "text": [
      "Chi square distance between f_est and f_true: 0.001396749429286623\n"
     ]
    },
    {
     "data": {
      "text/plain": [
       "array([0.38      , 0.28530924, 0.33469076])"
      ]
     },
     "execution_count": 3,
     "metadata": {},
     "output_type": "execute_result"
    }
   ],
   "source": [
    "#\n",
    "# Now let's estimate the target distribution!\n",
    "#\n",
    "from cherenkovdeconvolution import dsea\n",
    "from sklearn.naive_bayes import GaussianNB\n",
    "\n",
    "# deconvolve with a Naive Bayes classifier\n",
    "f_est = dsea(X_data, X_train, y_train, GaussianNB()) # perform a single iteration of DSEA with step size one\n",
    "print('Chi square distance between f_est and f_true: {}'.format(util.chi2s(f_est, f_true)))\n",
    "f_est"
   ]
  },
  {
   "cell_type": "code",
   "execution_count": 4,
   "metadata": {
    "scrolled": true
   },
   "outputs": [
    {
     "data": {
      "image/png": "[encoded data removed]",
      "text/plain": [
       "<Figure size 432x288 with 1 Axes>"
      ]
     },
     "metadata": {},
     "output_type": "display_data"
    }
   ],
   "source": [
    "# \n",
    "# ...And we check the estimate by comparing it to the true distribution (which we would not know, in practice)\n",
    "# \n",
    "%matplotlib inline\n",
    "import matplotlib.pyplot as plt\n",
    "\n",
    "# prepare plot\n",
    "fig, ax = plt.subplots()\n",
    "index = np.arange(3)\n",
    "barwidth = .3\n",
    "\n",
    "# add bar plots\n",
    "ax.bar(index,            f_est,  barwidth, label='estimated target distribution')\n",
    "ax.bar(index + barwidth, f_true, barwidth, label='true target distribution')\n",
    "ax.legend(loc = 'lower right')\n",
    "\n",
    "# show plot\n",
    "plt.xticks(index + barwidth / 2, iris.target_names)\n",
    "plt.show()\n",
    "\n",
    "# \n",
    "# Looks good, huh?  :)\n",
    "# "
   ]
  },
  {
   "cell_type": "code",
   "execution_count": 5,
   "metadata": {},
   "outputs": [
    {
     "name": "stdout",
     "output_type": "stream",
     "text": [
      "Help on function deconvolve in module cherenkovdeconvolution.methods.dsea:\n",
      "\n",
      "deconvolve(X_data, X_train, y_train, classifier, bins=None, f_0=None, fixweighting=True, alpha=1, smoothing=None, K=1, epsilon=0.0, inspect=None, return_contributions=False)\n",
      "    Deconvolve the target distribution of X_data with DSEA, learning from X_train and\n",
      "    y_train.\n",
      "    \n",
      "    Parameters\n",
      "    ----------\n",
      "    X_data : array-like, shape (n_samples, n_features), floats\n",
      "        The data from which the target distribution is deconvolved.\n",
      "    \n",
      "    X_train : array-like, shape (n_samples_train, n_features), floats\n",
      "        The data from which the classifier is trained.\n",
      "    \n",
      "    y_train : array-like, shape (n_samples_train,), nonnegative ints\n",
      "        The indices of target quantity values belonging to X_train.\n",
      "    \n",
      "    classifier: object\n",
      "        A classifier that is trained with classifier.fit(X_train, y_train, w_train) to\n",
      "        obtain a matrix of probabilities with classifier.predict_proba(X_data).\n",
      "        Any sklearn classifier is perfectly suited.\n",
      "    \n",
      "    bins: array-like, shape(I,), nonnegative ints, optional\n",
      "        The indices of target quantity values. These values are allowed in y_train.\n",
      "    \n",
      "    f_0 : array-like, shape(I,), floats, optional\n",
      "        The prior, which is uniform by default.\n",
      "    \n",
      "    fixweighting : bool, optional\n",
      "        Whether or not the weight update fix is applied, which is proposed in my Master's\n",
      "        thesis and the corresponding paper.\n",
      "    \n",
      "    alpha : float or function, optional\n",
      "        A constant value or a function (k, pk, f_prev) -> float, which is used to choose\n",
      "        the step size depending on the current estimate.\n",
      "    \n",
      "    smoothing : callable, optional\n",
      "        A function (f) -> (f_smooth) optionally smoothing each estimate before using it as\n",
      "        the prior of the next iteration.\n",
      "    \n",
      "    K : int, optional\n",
      "        The maximum iteration number.\n",
      "    \n",
      "    epsilon : float, optional\n",
      "        The minimum Chi Square distance between iterations. If the actual distance is below\n",
      "        this threshold, convergence is assumed and the algorithm stops.\n",
      "    \n",
      "    inspect : callable, optional\n",
      "        A function (f, k, alpha, chi2s) -> () optionally called in every iteration.\n",
      "    \n",
      "    return_contributions : bool, optional\n",
      "        Whether or not to return the contributions of individual examples in X_data along\n",
      "        with the deconvolution result.\n",
      "    \n",
      "    Returns\n",
      "    ----------\n",
      "    f : array-like, shape (I,)\n",
      "        The estimated target pdf of X_data.\n",
      "    \n",
      "    contributions : array-like, shape (n_samples, I)\n",
      "        The contributions of individual samples in X_data.\n",
      "\n"
     ]
    }
   ],
   "source": [
    "# \n",
    "# You can find more information in the documentation\n",
    "# \n",
    "help(dsea)\n"
   ]
  },
  {
   "cell_type": "markdown",
   "metadata": {},
   "source": [
    "## Decaying Step Sizes\n",
    "\n",
    "DSEA searches the space of all possible results for a suitable estimate of the true target distribution. In each iteration, it takes a step through that space, which can be scaled in order to improve the convergence behaviour of the algorithm.\n",
    "\n",
    "CherenkovDeconvolution.py contains the `stepsize` module for that purpose."
   ]
  },
  {
   "cell_type": "code",
   "execution_count": 6,
   "metadata": {},
   "outputs": [
    {
     "name": "stdout",
     "output_type": "stream",
     "text": [
      "0\n",
      "1\n",
      "2\n",
      "3\n"
     ]
    }
   ],
   "source": [
    "import cherenkovdeconvolution.stepsize as stepsize\n",
    "\n",
    "# first of all, we set up an inspection function, which prints the step size of each iteration\n",
    "def inspect_alpha(k, alpha, chi2s, f): # you can define custom inspection methods to investigate DSEA\n",
    "    print(alpha)\n",
    "\n",
    "# There are two decay rates, the first of which is comparably slow\n",
    "alpha_mul = stepsize.decay_mul(0.5)\n",
    "f_est_mul = dsea(X_data, X_train, y_train, GaussianNB(), K = 3, inspect = inspect_alpha, alpha = alpha_mul)"
   ]
  },
  {
   "cell_type": "code",
   "execution_count": 7,
   "metadata": {},
   "outputs": [
    {
     "name": "stdout",
     "output_type": "stream",
     "text": [
      "0\n",
      "1\n",
      "2\n",
      "3\n"
     ]
    }
   ],
   "source": [
    "# The other one decays exponentially, which is rather fast\n",
    "alpha_exp = stepsize.decay_exp(0.5, 2.0) # start with step size 2\n",
    "f_est_exp = dsea(X_data, X_train, y_train, GaussianNB(), K = 3, inspect = inspect_alpha,  alpha = alpha_exp)"
   ]
  },
  {
   "cell_type": "code",
   "execution_count": 8,
   "metadata": {},
   "outputs": [
    {
     "name": "stdout",
     "output_type": "stream",
     "text": [
      "Help on function decay_mul in module cherenkovdeconvolution.stepsize:\n",
      "\n",
      "decay_mul(eta, start=1.0)\n",
      "    Construct a function object for a decaying stepsize in DSEA.\n",
      "    \n",
      "    The returned function describes a slow decay  alpha_k = start * k**(eta-1),  where k is\n",
      "    the iteration number.\n",
      "    \n",
      "    Parameters\n",
      "    ----------\n",
      "    eta : float\n",
      "        The decay rate. eta = 1 means no decay, eta = 0 means decay with medium speed 1/k,\n",
      "        and eta = .5 means alpha_k = 1/sqrt(k), for example.\n",
      "    \n",
      "    start : float, optional\n",
      "        The initial step size, which is 1, by default.\n",
      "    \n",
      "    Returns\n",
      "    ----------\n",
      "    alpha_fun : callable\n",
      "        The stepsize function (k, pk, f_prev) -> float, which can be used as the alpha\n",
      "        argument in DSEA.\n",
      "\n"
     ]
    }
   ],
   "source": [
    "help(stepsize.decay_mul) # decay_exp would compute  alpha_k = start * eta**(k-1)"
   ]
  },
  {
   "cell_type": "markdown",
   "metadata": {},
   "source": [
    "## Adaptive Step Sizes\n",
    "\n",
    "DSEA+ adapts its step size dynamically to each iteration. The choice if the step size is based on the objective function of the classical RUN algorithm. RUN maximizes a likelihood function in order to obtain a deconvolution result. DSEA+ evaluates RUN's likelihood function in the direction of search to find an optimal step size alpha.\n",
    "\n",
    "Evaluating the likelihood function requires a discrete representation of examples `(x, y)` where `x` is an integer representing the cluster of the example in the feature space and `y` is an integer representing the label. The first step is thus to discretize the data."
   ]
  },
  {
   "cell_type": "code",
   "execution_count": 9,
   "metadata": {},
   "outputs": [
    {
     "name": "stdout",
     "output_type": "stream",
     "text": [
      "Iteration 0: alpha = nan\n",
      "Iteration 1: alpha = 0.7454175894178066\n",
      "Iteration 2: alpha = 4.887427306975944e-13\n",
      "Iteration 3: alpha = 8.093233510131406e-13\n",
      "Iteration 4: alpha = 1.2409091528698267e-12\n",
      "Iteration 5: alpha = 6.808813911605976e-13\n",
      "Iteration 6: alpha = 6.850920443326597e-13\n",
      "Chi square distance between f_est and f_true: 0.0010266467681069556\n"
     ]
    },
    {
     "data": {
      "text/plain": [
       "array([0.36811949, 0.29753533, 0.33434518])"
      ]
     },
     "execution_count": 9,
     "metadata": {},
     "output_type": "execute_result"
    }
   ],
   "source": [
    "from cherenkovdeconvolution.discretize import TreeDiscretizer\n",
    "discretizer = TreeDiscretizer(X_train, y_train, 4) # interpret the 4 leaves of a decision tree as clusters\n",
    "x_data  = discretizer.discretize(X_data)\n",
    "x_train = discretizer.discretize(X_train)\n",
    "alpha = stepsize.alpha_adaptive_run(x_data, x_train, y_train, tau = 0, bins_y = [0, 1, 2]) # a function object like above\n",
    "\n",
    "# inspect the chosen alpha values with a callback function\n",
    "def inspect_alpha(f, k, a, chi2s): # this signature is mandatory. Here, f is the latest estimate.\n",
    "    print('Iteration {}: alpha = {}'.format(k, a)) # print iteration number and alpha value\n",
    "\n",
    "# deconvolve\n",
    "f_est = dsea(X_data, X_train, y_train, GaussianNB(), K = 6, alpha = alpha, inspect = inspect_alpha)\n",
    "print('Chi square distance between f_est and f_true: {}'.format(util.chi2s(f_est, f_true)))\n",
    "f_est # Chi square distance of single-iteration DSEA was 0.001396749429286623"
   ]
  }
 ],
 "metadata": {
  "kernelspec": {
   "display_name": "Python 3",
   "language": "python",
   "name": "python3"
  },
  "language_info": {
   "codemirror_mode": {
    "name": "ipython",
    "version": 3
   },
   "file_extension": ".py",
   "mimetype": "text/x-python",
   "name": "python",
   "nbconvert_exporter": "python",
   "pygments_lexer": "ipython3",
   "version": "3.6.7"
  }
 },
 "nbformat": 4,
 "nbformat_minor": 2
}
