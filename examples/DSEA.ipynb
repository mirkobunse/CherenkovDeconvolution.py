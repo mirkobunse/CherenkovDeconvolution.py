{
 "cells": [
  {
   "cell_type": "markdown",
   "metadata": {},
   "source": [
    "# Deconvolution with DSEA\n",
    "\n",
    "The Dortmund Spectrum Estimation Algorithm (DSEA) reconstructs the target distribution from classifier predictions on the target quantity of individual examples.\n",
    "CherenkovDeconvolution.py implements the improved version DSEA+, which is extended by adaptive step sizes and a fixed reweighting of examples.\n",
    "\n",
    "For a quick start, we deconvolve the distribution of Iris plant types in the famous IRIS data set."
   ]
  },
  {
   "cell_type": "code",
   "execution_count": 1,
   "metadata": {
    "collapsed": false
   },
   "outputs": [],
   "source": [
    "import numpy as np\n",
    "from cherenkovdeconvolution import util\n",
    "\n",
    "# load the data\n",
    "from sklearn.datasets import load_iris\n",
    "iris = load_iris()\n",
    "\n",
    "# randomly split into training set and data to be deconvolved\n",
    "np.random.seed(42)\n",
    "p_iris = np.random.permutation(len(iris.target))\n",
    "X_data  = iris.data[p_iris[0:50], :]\n",
    "X_train = iris.data[p_iris[50:150], :]\n",
    "y_train = iris.target[p_iris[50:150]]\n",
    "\n",
    "# also obtain the true target density for validation (we are estimating this one)\n",
    "f_true = util.normalizepdf(np.bincount(iris.target[p_iris[0:50]])) # "
   ]
  },
  {
   "cell_type": "code",
   "execution_count": 2,
   "metadata": {
    "collapsed": true
   },
   "outputs": [],
   "source": [
    "# workaround if you have not yet installed CherenkovDeconvolution.py but want to try it from this notebook\n",
    "import sys\n",
    "sys.path.append(\"..\")"
   ]
  },
  {
   "cell_type": "code",
   "execution_count": 7,
   "metadata": {
    "collapsed": false
   },
   "outputs": [],
   "source": [
    "#\n",
    "# Now let's estimate the target distribution!\n",
    "#\n",
    "from cherenkovdeconvolution import dsea\n",
    "from sklearn.naive_bayes import GaussianNB\n",
    "\n",
    "# deconvolve with a Naive Bayes classifier\n",
    "f_est = dsea(X_data, X_train, y_train, GaussianNB())\n"
   ]
  },
  {
   "cell_type": "code",
   "execution_count": 8,
   "metadata": {
    "collapsed": false,
    "scrolled": true
   },
   "outputs": [
    {
     "data": {
      "image/png": "[encoded data removed]",
      "text/plain": [
       "<matplotlib.figure.Figure at 0x7f0ea9bdd5c0>"
      ]
     },
     "metadata": {},
     "output_type": "display_data"
    }
   ],
   "source": [
    "# \n",
    "# ...And we check the estimate by comparing it to the true distribution (which we would not know, in practice)\n",
    "# \n",
    "import matplotlib.pyplot as plt\n",
    "\n",
    "# prepare plot\n",
    "fig, ax = plt.subplots()\n",
    "index = np.arange(3)\n",
    "barwidth = .3\n",
    "\n",
    "# add bar plots\n",
    "ax.bar(index,            f_est,  barwidth, label='estimated target distribution')\n",
    "ax.bar(index + barwidth, f_true, barwidth, label='true target distribution')\n",
    "ax.legend(loc = 'lower right')\n",
    "\n",
    "# show plot\n",
    "plt.xticks(index + barwidth / 2, iris.target_names)\n",
    "plt.show()\n",
    "\n",
    "# \n",
    "# Looks good, huh?  :)\n",
    "# "
   ]
  },
  {
   "cell_type": "code",
   "execution_count": 5,
   "metadata": {
    "collapsed": false
   },
   "outputs": [
    {
     "name": "stdout",
     "output_type": "stream",
     "text": [
      "Help on function deconvolve in module cherenkovdeconvolution.methods.dsea:\n",
      "\n",
      "deconvolve(X_data, X_train, y_train, classifier, f_0=None, fixweighting=True, alpha=1, smoothing=None, K=1, epsilon=0.0, inspect=None, return_contributions=False)\n",
      "    Deconvolve the target distribution of X_data with DSEA, learning from X_train and\n",
      "    y_train.\n",
      "    \n",
      "    Parameters\n",
      "    ----------\n",
      "    X_data : array-like, shape (n_samples, n_features), floats\n",
      "        The data from which the target distribution is deconvolved.\n",
      "    \n",
      "    X_train : array-like, shape (n_samples_train, n_features), floats\n",
      "        The data from which the classifier is trained.\n",
      "    \n",
      "    y_train : array-like, shape (n_samples_train,), nonnegative ints\n",
      "        The indices of target quantity values belonging to X_train.\n",
      "    \n",
      "    classifier: object\n",
      "        A classifier that is trained with classifier.fit(X_train, y_train, w_train) to\n",
      "        obtain a matrix of probabilities with classifier.predict_proba(X_data).\n",
      "        Any sklearn classifier is perfectly suited.\n",
      "    \n",
      "    f_0 : array-like, shape(I,), floats\n",
      "        The prior, which is uniform by default.\n",
      "    \n",
      "    fixweighting : bool\n",
      "        Whether or not the weight update fix is applied, which is proposed in my Master's\n",
      "        thesis and the corresponding paper.\n",
      "    \n",
      "    alpha : float or function\n",
      "        A constant value or a function (k, pk, f_prev) -> float, which is used to choose\n",
      "        the step size depending on the current estimate.\n",
      "    \n",
      "    smoothing : callable\n",
      "        A function (f) -> (f_smooth) optionally smoothing each estimate before using it as\n",
      "        the prior of the next iteration.\n",
      "    \n",
      "    K : int\n",
      "        The maximum iteration number.\n",
      "    \n",
      "    epsilon : float\n",
      "        The minimum Chi Square distance between iterations. If the actual distance is below\n",
      "        this threshold, convergence is assumed and the algorithm stops.\n",
      "    \n",
      "    inspect : callable\n",
      "        A function (k, alpha, chi2s, f) -> () optionally called in every iteration.\n",
      "    \n",
      "    return_contributions : bool\n",
      "        Whether or not to return the contributions of individual examples in X_data along\n",
      "        with the deconvolution result.\n",
      "    \n",
      "    Returns\n",
      "    ----------\n",
      "    f : array-like, shape (I,)\n",
      "        The estimated target pdf of X_data.\n",
      "    \n",
      "    contributions : array-like, shape (n_samples, I)\n",
      "        The contributions of individual samples in X_data.\n",
      "\n"
     ]
    }
   ],
   "source": [
    "# \n",
    "# You can find more information in the documentation\n",
    "# \n",
    "help(dsea)\n"
   ]
  },
  {
   "cell_type": "markdown",
   "metadata": {},
   "source": [
    "## Decaying Step Sizes\n",
    "\n",
    "DSEA searches the space of all possible results for a suitable estimate of the true target distribution. In each iteration, it takes a step through that space, which can be scaled in order to improve the convergence behaviour of the algorithm.\n",
    "\n",
    "CherenkovDeconvolution.py contains the `stepsize` module for that purpose."
   ]
  },
  {
   "cell_type": "code",
   "execution_count": 6,
   "metadata": {
    "collapsed": false
   },
   "outputs": [
    {
     "name": "stdout",
     "output_type": "stream",
     "text": [
      "nan\n",
      "1.0\n",
      "0.7071067811865476\n",
      "0.5773502691896257\n"
     ]
    }
   ],
   "source": [
    "import cherenkovdeconvolution.stepsize as stepsize\n",
    "\n",
    "# first of all, we set up an inspection function, which prints the step size of each iteration\n",
    "def inspect_alpha(k, alpha, chi2s, f): # you can define custom inspection methods to investigate DSEA\n",
    "    print(alpha)\n",
    "\n",
    "# There are two decay rates, the first of which is comparably slow\n",
    "alpha_mul = stepsize.decay_mul(0.5)\n",
    "f_est_mul = dsea(X_data, X_train, y_train, GaussianNB(), K = 3, inspect = inspect_alpha, alpha = alpha_mul)"
   ]
  },
  {
   "cell_type": "code",
   "execution_count": 7,
   "metadata": {
    "collapsed": false
   },
   "outputs": [
    {
     "name": "stdout",
     "output_type": "stream",
     "text": [
      "nan\n",
      "2.0\n",
      "1.0\n",
      "0.5\n"
     ]
    }
   ],
   "source": [
    "# The other one decays exponentially, which is rather fast\n",
    "alpha_exp = stepsize.decay_exp(0.5, 2.0) # start with step size 2\n",
    "f_est_exp = dsea(X_data, X_train, y_train, GaussianNB(), K = 3, inspect = inspect_alpha,  alpha = alpha_exp)"
   ]
  },
  {
   "cell_type": "code",
   "execution_count": 8,
   "metadata": {
    "collapsed": false
   },
   "outputs": [
    {
     "name": "stdout",
     "output_type": "stream",
     "text": [
      "Help on function decay_mul in module cherenkovdeconvolution.stepsize:\n",
      "\n",
      "decay_mul(eta, start=1.0)\n",
      "    Construct a function object for a decaying stepsize in DSEA.\n",
      "    \n",
      "    The returned function describes a slow decay  alpha_k = start * k**(eta-1),  where k is\n",
      "    the iteration number.\n",
      "    \n",
      "    Parameters\n",
      "    ----------\n",
      "    eta : float\n",
      "        The decay rate. eta = 1 means no decay, eta = 0 means decay with medium speed 1/k,\n",
      "        and eta = .5 means alpha_k = 1/sqrt(k), for example.\n",
      "    \n",
      "    start : float, optional\n",
      "        The initial step size, which is 1, by default.\n",
      "    \n",
      "    Returns\n",
      "    ----------\n",
      "    alpha_fun : callable\n",
      "        The stepsize function (k, pk, f_prev) -> float, which can be used as the alpha\n",
      "        argument in DSEA.\n",
      "\n"
     ]
    }
   ],
   "source": [
    "help(stepsize.decay_mul) # decay_exp would compute  alpha_k = start * eta**(k-1)"
   ]
  }
 ],
 "metadata": {
  "kernelspec": {
   "display_name": "Python 3",
   "language": "python",
   "name": "python3"
  },
  "language_info": {
   "codemirror_mode": {
    "name": "ipython",
    "version": 3
   },
   "file_extension": ".py",
   "mimetype": "text/x-python",
   "name": "python",
   "nbconvert_exporter": "python",
   "pygments_lexer": "ipython3",
   "version": "3.6.0"
  }
 },
 "nbformat": 4,
 "nbformat_minor": 2
}
