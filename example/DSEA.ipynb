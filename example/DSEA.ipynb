{
 "cells": [
  {
   "cell_type": "markdown",
   "metadata": {},
   "source": [
    "# Deconvolution with DSEA\n",
    "\n",
    "For a quick start, we will deconvolve the distribution of Iris plant types in the famous IRIS data set.\n",
    "\n",
    "### Outline\n",
    "\n",
    "- Split the IRIS data into a training and test set\n",
    "- Deconvolve the test set\n",
    "- Plot the result\n",
    "\n",
    "### Further Reference\n",
    "\n",
    "`import cherenkovdeconvolution` in an interactive Python shell to get access to the documentation via\n",
    "\n",
    "      help(cherenkovdeconvolution.dsea)"
   ]
  },
  {
   "cell_type": "code",
   "execution_count": 1,
   "metadata": {
    "collapsed": false
   },
   "outputs": [],
   "source": [
    "import numpy as np\n",
    "\n",
    "# load the data\n",
    "from sklearn.datasets import load_iris\n",
    "iris = load_iris()\n",
    "\n",
    "# randomly split into training set and data to be deconvolved\n",
    "np.random.seed(42)\n",
    "p_iris = np.random.permutation(len(iris.target))\n",
    "X_data  = iris.data[p_iris[0:50], :]\n",
    "X_train = iris.data[p_iris[50:150], :]\n",
    "y_train = iris.target[p_iris[50:150]]\n",
    "\n",
    "# also obtain the true target distribution for validation (we are estimating this one)\n",
    "f_true = np.bincount(iris.target[p_iris[0:50]])"
   ]
  },
  {
   "cell_type": "code",
   "execution_count": 2,
   "metadata": {
    "collapsed": true
   },
   "outputs": [],
   "source": [
    "# workaround if you have not yet installed CherenkovDeconvolution.py but want to try it from this notebook\n",
    "import sys\n",
    "sys.path.append(\"..\")"
   ]
  },
  {
   "cell_type": "code",
   "execution_count": 3,
   "metadata": {
    "collapsed": false
   },
   "outputs": [],
   "source": [
    "from cherenkovdeconvolution import dsea\n",
    "from sklearn.naive_bayes import GaussianNB\n",
    "\n",
    "# deconvolve with a Naive Bayes classifier\n",
    "f_est = dsea(X_data, X_train, y_train, GaussianNB())"
   ]
  },
  {
   "cell_type": "code",
   "execution_count": 4,
   "metadata": {
    "collapsed": false,
    "scrolled": true
   },
   "outputs": [
    {
     "data": {
      "image/png": "[encoded data removed]",
      "text/plain": [
       "<matplotlib.figure.Figure at 0x7fcab61a9e10>"
      ]
     },
     "metadata": {},
     "output_type": "display_data"
    }
   ],
   "source": [
    "import matplotlib.pyplot as plt\n",
    "\n",
    "# prepare plot\n",
    "fig, ax = plt.subplots()\n",
    "index = np.arange(3)\n",
    "barwidth = .3\n",
    "\n",
    "# add bar plots\n",
    "ax.bar(index,            f_est,  barwidth, label='estimated target distribution')\n",
    "ax.bar(index + barwidth, f_true, barwidth, label='true target distribution')\n",
    "ax.legend(loc = 'lower right')\n",
    "\n",
    "# show plot\n",
    "plt.xticks(index + barwidth / 2, iris.target_names)\n",
    "plt.show()"
   ]
  }
 ],
 "metadata": {
  "kernelspec": {
   "display_name": "Python 3",
   "language": "python",
   "name": "python3"
  },
  "language_info": {
   "codemirror_mode": {
    "name": "ipython",
    "version": 3
   },
   "file_extension": ".py",
   "mimetype": "text/x-python",
   "name": "python",
   "nbconvert_exporter": "python",
   "pygments_lexer": "ipython3",
   "version": "3.6.0"
  }
 },
 "nbformat": 4,
 "nbformat_minor": 2
}
